{
 "cells": [
  {
   "cell_type": "code",
   "execution_count": 51,
   "metadata": {},
   "outputs": [],
   "source": [
    "import json\n",
    "import pandas as pd\n",
    "import yfinance as yf\n",
    "from sqlalchemy import create_engine"
   ]
  },
  {
   "cell_type": "code",
   "execution_count": 16,
   "metadata": {},
   "outputs": [],
   "source": [
    "def get_sqlite_engine():\n",
    "    engine = create_engine('sqlite:///data/reddit.db', echo=True)\n",
    "    return engine"
   ]
  },
  {
   "cell_type": "code",
   "execution_count": 32,
   "metadata": {},
   "outputs": [],
   "source": [
    "query = \"SELECT day, blob FROM tickers_timeseries WHERE source='post';\" "
   ]
  },
  {
   "cell_type": "code",
   "execution_count": 33,
   "metadata": {},
   "outputs": [
    {
     "name": "stdout",
     "output_type": "stream",
     "text": [
      "2021-06-13 20:39:38,834 INFO sqlalchemy.engine.Engine BEGIN (implicit)\n",
      "2021-06-13 20:39:38,835 INFO sqlalchemy.engine.Engine SELECT day, blob FROM tickers_timeseries WHERE source='post';\n",
      "2021-06-13 20:39:38,835 INFO sqlalchemy.engine.Engine [raw sql] ()\n",
      "2021-06-13 20:39:38,837 INFO sqlalchemy.engine.Engine COMMIT\n"
     ]
    }
   ],
   "source": [
    "engine = get_sqlite_engine()\n",
    "with engine.begin() as con:\n",
    "    raw_data = con.execute(query).fetchall()"
   ]
  },
  {
   "cell_type": "code",
   "execution_count": 35,
   "metadata": {},
   "outputs": [],
   "source": [
    "# Extract unique tickers\n",
    "unique_tickers = []\n",
    "for values in raw_data:\n",
    "    day, blob = values[0], json.loads(values[1])\n",
    "    unique_tickers = unique_tickers + list(blob.keys())"
   ]
  },
  {
   "cell_type": "code",
   "execution_count": 48,
   "metadata": {},
   "outputs": [],
   "source": [
    "# Making 2D datastructure\n",
    "# [{'day':'2021-06-10', 'BB', '1'},\n",
    "#  {'day':'2021-06-11', 'GME', '1'}, ..]\n",
    "\n",
    "data = []\n",
    "for values in raw_data:\n",
    "    day, blob = values[0], json.loads(values[1])\n",
    "    for ticker in blob:\n",
    "        t_data = yf.Ticker(ticker)\n",
    "#         if \"shortName\" not in t_data.info.keys():\n",
    "#             continue\n",
    "#         t_data.info\n",
    "        data.append({\n",
    "            'day':day,\n",
    "            'ticker':ticker,\n",
    "            'count':blob[ticker]\n",
    "        })"
   ]
  },
  {
   "cell_type": "code",
   "execution_count": 53,
   "metadata": {},
   "outputs": [],
   "source": [
    "df = pd.DataFrame(data)"
   ]
  },
  {
   "cell_type": "code",
   "execution_count": 54,
   "metadata": {},
   "outputs": [
    {
     "data": {
      "text/html": [
       "<div>\n",
       "<style scoped>\n",
       "    .dataframe tbody tr th:only-of-type {\n",
       "        vertical-align: middle;\n",
       "    }\n",
       "\n",
       "    .dataframe tbody tr th {\n",
       "        vertical-align: top;\n",
       "    }\n",
       "\n",
       "    .dataframe thead th {\n",
       "        text-align: right;\n",
       "    }\n",
       "</style>\n",
       "<table border=\"1\" class=\"dataframe\">\n",
       "  <thead>\n",
       "    <tr style=\"text-align: right;\">\n",
       "      <th></th>\n",
       "      <th>day</th>\n",
       "      <th>ticker</th>\n",
       "      <th>count</th>\n",
       "    </tr>\n",
       "  </thead>\n",
       "  <tbody>\n",
       "    <tr>\n",
       "      <th>1</th>\n",
       "      <td>2021-06-10</td>\n",
       "      <td>GME</td>\n",
       "      <td>1</td>\n",
       "    </tr>\n",
       "    <tr>\n",
       "      <th>3</th>\n",
       "      <td>2021-06-11</td>\n",
       "      <td>GME</td>\n",
       "      <td>11</td>\n",
       "    </tr>\n",
       "    <tr>\n",
       "      <th>310</th>\n",
       "      <td>2021-06-13</td>\n",
       "      <td>GME</td>\n",
       "      <td>1</td>\n",
       "    </tr>\n",
       "    <tr>\n",
       "      <th>350</th>\n",
       "      <td>2021-06-14</td>\n",
       "      <td>GME</td>\n",
       "      <td>3</td>\n",
       "    </tr>\n",
       "  </tbody>\n",
       "</table>\n",
       "</div>"
      ],
      "text/plain": [
       "            day ticker  count\n",
       "1    2021-06-10    GME      1\n",
       "3    2021-06-11    GME     11\n",
       "310  2021-06-13    GME      1\n",
       "350  2021-06-14    GME      3"
      ]
     },
     "execution_count": 54,
     "metadata": {},
     "output_type": "execute_result"
    }
   ],
   "source": [
    "df[df['ticker'] == 'GME']"
   ]
  },
  {
   "cell_type": "code",
   "execution_count": null,
   "metadata": {},
   "outputs": [],
   "source": [
    "# TODO: Graph timeseries"
   ]
  }
 ],
 "metadata": {
  "kernelspec": {
   "display_name": "datascience",
   "language": "python",
   "name": "datascience"
  },
  "language_info": {
   "codemirror_mode": {
    "name": "ipython",
    "version": 3
   },
   "file_extension": ".py",
   "mimetype": "text/x-python",
   "name": "python",
   "nbconvert_exporter": "python",
   "pygments_lexer": "ipython3",
   "version": "3.8.5"
  }
 },
 "nbformat": 4,
 "nbformat_minor": 4
}
